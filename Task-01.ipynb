{
  "nbformat": 4,
  "nbformat_minor": 0,
  "metadata": {
    "colab": {
      "provenance": [],
      "gpuType": "T4"
    },
    "kernelspec": {
      "name": "python3",
      "display_name": "Python 3"
    },
    "language_info": {
      "name": "python"
    },
    "accelerator": "GPU"
  },
  "cells": [
    {
      "cell_type": "markdown",
      "source": [
        "## Task 1: Chat with PDF"
      ],
      "metadata": {
        "id": "d5cnUiHMitFY"
      }
    },
    {
      "cell_type": "markdown",
      "source": [
        "### Step 1: Extract Data from PDFs\n"
      ],
      "metadata": {
        "id": "pE1AavbHix5z"
      }
    },
    {
      "cell_type": "code",
      "source": [
        "pip install pdfplumber"
      ],
      "metadata": {
        "colab": {
          "base_uri": "https://localhost:8080/"
        },
        "id": "bZsIxSHTkE8E",
        "outputId": "71a0884a-472b-483c-c6c3-96035c32f388"
      },
      "execution_count": 73,
      "outputs": [
        {
          "output_type": "stream",
          "name": "stdout",
          "text": [
            "Requirement already satisfied: pdfplumber in /usr/local/lib/python3.10/dist-packages (0.11.4)\n",
            "Requirement already satisfied: pdfminer.six==20231228 in /usr/local/lib/python3.10/dist-packages (from pdfplumber) (20231228)\n",
            "Requirement already satisfied: Pillow>=9.1 in /usr/local/lib/python3.10/dist-packages (from pdfplumber) (11.0.0)\n",
            "Requirement already satisfied: pypdfium2>=4.18.0 in /usr/local/lib/python3.10/dist-packages (from pdfplumber) (4.30.0)\n",
            "Requirement already satisfied: charset-normalizer>=2.0.0 in /usr/local/lib/python3.10/dist-packages (from pdfminer.six==20231228->pdfplumber) (3.4.0)\n",
            "Requirement already satisfied: cryptography>=36.0.0 in /usr/local/lib/python3.10/dist-packages (from pdfminer.six==20231228->pdfplumber) (43.0.3)\n",
            "Requirement already satisfied: cffi>=1.12 in /usr/local/lib/python3.10/dist-packages (from cryptography>=36.0.0->pdfminer.six==20231228->pdfplumber) (1.17.1)\n",
            "Requirement already satisfied: pycparser in /usr/local/lib/python3.10/dist-packages (from cffi>=1.12->cryptography>=36.0.0->pdfminer.six==20231228->pdfplumber) (2.22)\n"
          ]
        }
      ]
    },
    {
      "cell_type": "code",
      "execution_count": 74,
      "metadata": {
        "id": "uSd01lEXd6RG"
      },
      "outputs": [],
      "source": [
        "# Using pdfplumber to extract text.\n",
        "import pdfplumber\n",
        "\n",
        "def extract_text_from_pdf(pdf_path):\n",
        "    text_data = []\n",
        "    with pdfplumber.open(pdf_path) as pdf:\n",
        "        for page in pdf.pages:\n",
        "            text_data.append(page.extract_text())\n",
        "    return text_data\n",
        "\n",
        "# Example usage\n",
        "pdf_path = \"example.pdf\"\n",
        "pdf_text = extract_text_from_pdf(pdf_path)\n"
      ]
    },
    {
      "cell_type": "code",
      "source": [
        "pdf_text"
      ],
      "metadata": {
        "colab": {
          "base_uri": "https://localhost:8080/"
        },
        "id": "yll6r-eSkB8b",
        "outputId": "30f38cd4-932f-4b14-9074-cb7352b2770d"
      },
      "execution_count": 75,
      "outputs": [
        {
          "output_type": "execute_result",
          "data": {
            "text/plain": [
              "['Technological Advances and Impact\\n1. Introduction\\nTechnology has played a transformative role in human history, revolutionizing the way societies function,\\nindustries operate, and individuals interact. From the Industrial Revolution to the Digital Age,\\ntechnological advancements have driven progress in every field imaginable. This document explores the\\nkey categories of technological advances and their impacts, supported by semi-structured data.\\n2. Categories of Technological Advances\\n2.1 Artificial Intelligence (AI)\\nAI has redefined problem-solving capabilities through machine learning, natural language processing, and\\nrobotics. AI applications span diverse fields, from healthcare diagnostics to autonomous vehicles.\\n2.2 Renewable Energy Technologies\\nRenewable energy sources, such as solar and wind, are rapidly replacing fossil fuels, driven by the need\\nfor sustainable development.\\n2.3 Biotechnology\\nBiotechnology leverages biological systems and organisms to create innovative solutions in medicine,\\nagriculture, and environmental management.\\n2.4 Information and Communication Technology (ICT)\\nICT has revolutionized communication and data processing, enabling the global exchange of information\\nat unprecedented speeds.\\n2.5 Space Exploration\\nSpace technology facilitates satellite communication, scientific exploration, and aspirations for human\\ncolonization of other planets.\\n3. Detailed Data in Semi-structured Format\\n3.1 Artificial Intelligence (AI)\\nAspect Details\\nCategory Artificial Intelligence\\nApplications Natural Language Processing, Computer Vision, Predictive Analytics\\nIndustries Healthcare, Finance, Retail',\n",
              " 'Positive Impact Automation of tasks, Enhanced decision-making\\nChallenges Ethical concerns, Job displacement\\nFuture Trends Explainable AI, AI in Governance\\n3.2 Renewable Energy\\nType Aspect Details\\nSolar Adoption High\\nCost Reduction 50% since 2010\\nKey Markets USA, China, Germany\\nWind Global Capacity 743 GW\\nOffshore Growth Rate 25% annually\\n3.3 Biotechnology\\nAspect Details\\nCategory Biotechnology\\nApplications Genetic Engineering, Vaccination Development, Environmental Bioremediation\\nKey Breakthroughs CRISPR (Genome editing technology), mRNA Vaccines (COVID-19 pandemic)\\nFuture Potential Personalized medicine, Sustainable agriculture\\n3.4 Information and Communication Technology (ICT)\\nAspect Details\\nInnovations 5G Networks, Cloud Computing, Blockchain Technology\\nImpacts Improved global connectivity, Increased cybersecurity threats\\nPredictions Expansion of IoT devices, Growth in edge computing\\n3.5 Space Exploration\\nAspect Details\\nCategory Space Exploration\\nMilestones Moon Landing, Mars Rovers, James Webb Telescope',\n",
              " 'Applications Satellite Communication, Earth Observation, Astrobiology Research\\nChallenges High costs, Radiation risks for astronauts\\nFuture Plans Human Mars missions, Space tourism\\n4. Observations and Recommendations\\n4.1 Observations\\n• AI and ICT drive significant industrial and societal transformations.\\n• Renewable energy adoption is crucial for achieving sustainability.\\n• Biotechnology is pivotal in addressing global health and food challenges.\\n• Space exploration enhances scientific knowledge and technological innovation.\\n4.2 Recommendations\\n• Encourage ethical AI development and implementation.\\n• Invest in renewable energy infrastructure to mitigate climate change.\\n• Promote biotechnology research to enhance healthcare and agriculture.\\n• Develop international collaborations for space exploration and resource sharing.\\n5. Conclusion\\nTechnological advancements continue to reshape the world, offering opportunities and challenges.\\nSocieties must harness these technologies responsibly to ensure equitable growth, sustainability, and\\nprosperity. Collaboration between policymakers, researchers, and industry leaders is essential to\\nmaximize the benefits and mitigate the risks of emerging technologies.']"
            ]
          },
          "metadata": {},
          "execution_count": 75
        }
      ]
    },
    {
      "cell_type": "markdown",
      "source": [
        "## Step 2: Chunk the Extracted Text\n",
        "Split the extracted text into smaller, meaningful chunks for better retrieval.\n",
        "\n",
        "\n",
        "\n",
        "Use libraries like nltk for splitting text into sentences or paragraphs:"
      ],
      "metadata": {
        "id": "5xHbypi6kX9X"
      }
    },
    {
      "cell_type": "code",
      "source": [
        "def chunk_text(text, max_length=500):\n",
        "    words = text.split()\n",
        "    return [' '.join(words[i:i+max_length]) for i in range(0, len(words), max_length)]\n",
        "\n",
        "chunks = chunk_text(' '.join(pdf_text))\n"
      ],
      "metadata": {
        "id": "N3bGXusCkPIU"
      },
      "execution_count": 76,
      "outputs": []
    },
    {
      "cell_type": "markdown",
      "source": [],
      "metadata": {
        "id": "hX-YB2B69lij"
      }
    },
    {
      "cell_type": "code",
      "source": [
        "chunks"
      ],
      "metadata": {
        "colab": {
          "base_uri": "https://localhost:8080/"
        },
        "id": "uomRqEhFkbg3",
        "outputId": "7ab9b90f-1fe4-4053-e827-cfeb2922d88f"
      },
      "execution_count": 5,
      "outputs": [
        {
          "output_type": "execute_result",
          "data": {
            "text/plain": [
              "['Technological Advances and Impact 1. Introduction Technology has played a transformative role in human history, revolutionizing the way societies function, industries operate, and individuals interact. From the Industrial Revolution to the Digital Age, technological advancements have driven progress in every field imaginable. This document explores the key categories of technological advances and their impacts, supported by semi-structured data. 2. Categories of Technological Advances 2.1 Artificial Intelligence (AI) AI has redefined problem-solving capabilities through machine learning, natural language processing, and robotics. AI applications span diverse fields, from healthcare diagnostics to autonomous vehicles. 2.2 Renewable Energy Technologies Renewable energy sources, such as solar and wind, are rapidly replacing fossil fuels, driven by the need for sustainable development. 2.3 Biotechnology Biotechnology leverages biological systems and organisms to create innovative solutions in medicine, agriculture, and environmental management. 2.4 Information and Communication Technology (ICT) ICT has revolutionized communication and data processing, enabling the global exchange of information at unprecedented speeds. 2.5 Space Exploration Space technology facilitates satellite communication, scientific exploration, and aspirations for human colonization of other planets. 3. Detailed Data in Semi-structured Format 3.1 Artificial Intelligence (AI) Aspect Details Category Artificial Intelligence Applications Natural Language Processing, Computer Vision, Predictive Analytics Industries Healthcare, Finance, Retail Positive Impact Automation of tasks, Enhanced decision-making Challenges Ethical concerns, Job displacement Future Trends Explainable AI, AI in Governance 3.2 Renewable Energy Type Aspect Details Solar Adoption High Cost Reduction 50% since 2010 Key Markets USA, China, Germany Wind Global Capacity 743 GW Offshore Growth Rate 25% annually 3.3 Biotechnology Aspect Details Category Biotechnology Applications Genetic Engineering, Vaccination Development, Environmental Bioremediation Key Breakthroughs CRISPR (Genome editing technology), mRNA Vaccines (COVID-19 pandemic) Future Potential Personalized medicine, Sustainable agriculture 3.4 Information and Communication Technology (ICT) Aspect Details Innovations 5G Networks, Cloud Computing, Blockchain Technology Impacts Improved global connectivity, Increased cybersecurity threats Predictions Expansion of IoT devices, Growth in edge computing 3.5 Space Exploration Aspect Details Category Space Exploration Milestones Moon Landing, Mars Rovers, James Webb Telescope Applications Satellite Communication, Earth Observation, Astrobiology Research Challenges High costs, Radiation risks for astronauts Future Plans Human Mars missions, Space tourism 4. Observations and Recommendations 4.1 Observations • AI and ICT drive significant industrial and societal transformations. • Renewable energy adoption is crucial for achieving sustainability. • Biotechnology is pivotal in addressing global health and food challenges. • Space exploration enhances scientific knowledge and technological innovation. 4.2 Recommendations • Encourage ethical AI development and implementation. • Invest in renewable energy infrastructure to mitigate climate change. • Promote biotechnology research to enhance healthcare and agriculture. • Develop international collaborations for space exploration and resource sharing. 5. Conclusion Technological advancements continue to reshape the world, offering opportunities and challenges. Societies must harness these technologies responsibly to ensure equitable growth, sustainability, and prosperity. Collaboration between policymakers, researchers, and industry leaders is essential to maximize the benefits and mitigate the risks of emerging technologies.']"
            ]
          },
          "metadata": {},
          "execution_count": 5
        }
      ]
    },
    {
      "cell_type": "markdown",
      "source": [
        "## Step 3: Convert Chunks to Embeddings\n",
        "Use a free Hugging Face embedding model like sentence-transformers/all-MiniLM-L6-v2.\n",
        "\n",
        "\n",
        "Install required library: pip install sentence-transformers"
      ],
      "metadata": {
        "id": "pCEydGCnkmEZ"
      }
    },
    {
      "cell_type": "code",
      "source": [
        "from sentence_transformers import SentenceTransformer\n",
        "\n",
        "model = SentenceTransformer('all-MiniLM-L6-v2')\n",
        "\n",
        "def generate_embeddings(chunks):\n",
        "    return model.encode(chunks)\n",
        "\n",
        "embeddings = generate_embeddings(chunks)\n"
      ],
      "metadata": {
        "id": "7q7ax8vBkc3D"
      },
      "execution_count": 94,
      "outputs": []
    },
    {
      "cell_type": "code",
      "source": [
        "embeddings"
      ],
      "metadata": {
        "colab": {
          "base_uri": "https://localhost:8080/"
        },
        "id": "VVChDp7zkoTD",
        "outputId": "690c11a7-7a35-4464-8fc1-2e99ce5d6145"
      },
      "execution_count": 7,
      "outputs": [
        {
          "output_type": "execute_result",
          "data": {
            "text/plain": [
              "array([[-2.11438537e-03,  8.22735019e-03,  9.22150761e-02,\n",
              "        -2.09102947e-02,  1.13635762e-02, -4.26488966e-02,\n",
              "         7.69801019e-03, -2.45063994e-02, -2.98184566e-02,\n",
              "         6.51459992e-02, -6.27262369e-02, -3.52699012e-02,\n",
              "        -3.24409604e-02,  7.16379192e-03, -1.61520224e-02,\n",
              "         4.31093797e-02, -3.95570956e-02, -5.10982648e-02,\n",
              "        -7.62242004e-02, -3.68719883e-02,  9.99040082e-02,\n",
              "         9.09594372e-02, -1.38494733e-03, -1.77873706e-03,\n",
              "         3.82404141e-02,  8.73489976e-02,  5.56522980e-03,\n",
              "        -9.40532163e-02, -6.40310422e-02,  7.04503357e-02,\n",
              "         4.03540954e-02,  4.29736152e-02,  2.15611663e-02,\n",
              "         4.09165323e-02,  2.70049069e-02,  1.19267687e-01,\n",
              "        -1.03831748e-02, -2.82174852e-02,  1.14130592e-02,\n",
              "        -1.03148138e-02, -3.75012495e-02, -1.50371879e-01,\n",
              "         2.17372607e-02,  3.62067334e-02,  3.24423611e-02,\n",
              "         4.62682992e-02, -6.17828704e-02, -8.25282335e-02,\n",
              "         5.70844300e-02,  2.95319594e-03, -1.28737420e-01,\n",
              "        -4.57217246e-02,  1.38185844e-02, -6.19937340e-03,\n",
              "        -1.75639838e-02, -6.59156442e-02, -4.61645015e-02,\n",
              "        -1.77249312e-02,  4.26312201e-02, -1.16845347e-01,\n",
              "         9.51099768e-02, -1.04429975e-01,  4.14073691e-02,\n",
              "        -1.61672607e-02, -4.24659327e-02, -2.12982446e-02,\n",
              "        -1.02717236e-01,  1.04679037e-02,  2.98719201e-02,\n",
              "        -1.18811941e-03, -1.61240213e-02,  6.40033036e-02,\n",
              "        -4.49075215e-02, -1.79548506e-02, -3.29838917e-02,\n",
              "        -6.31035212e-03,  5.57765812e-02,  8.24034289e-02,\n",
              "         9.35132131e-02, -7.85009712e-02,  1.00051306e-01,\n",
              "         3.20278406e-02, -8.49510506e-02,  2.48320717e-02,\n",
              "        -7.89083093e-02, -3.43815610e-02, -7.57172890e-03,\n",
              "         7.03318864e-02, -4.37014597e-03, -3.62532511e-02,\n",
              "         6.30348399e-02, -4.37007770e-02,  3.90644372e-02,\n",
              "        -9.45417490e-03,  2.14131698e-02, -9.71237291e-03,\n",
              "        -9.09302458e-02, -8.13581645e-02,  2.32189074e-02,\n",
              "        -1.08645447e-02, -1.01407459e-02,  6.09969981e-02,\n",
              "        -3.36821228e-02, -1.28429150e-02, -8.38466808e-02,\n",
              "        -3.92033719e-02,  3.05856094e-02,  2.94152573e-02,\n",
              "         8.45870227e-02, -3.44463699e-02, -6.27647415e-02,\n",
              "         2.32154112e-02, -7.89407715e-02, -1.02012781e-02,\n",
              "        -6.42882064e-02,  3.00439280e-02,  3.63294454e-03,\n",
              "         3.79279815e-02,  3.83334123e-02,  9.34514590e-03,\n",
              "        -3.05135604e-02, -1.09016716e-01,  2.56921388e-02,\n",
              "        -2.47573182e-02, -1.29158860e-02, -7.74087682e-02,\n",
              "        -2.38747653e-02,  4.69998237e-33, -8.50701481e-02,\n",
              "        -4.32264730e-02,  3.60719413e-02,  5.92662729e-02,\n",
              "        -2.87623182e-02,  2.78181881e-02, -4.61391956e-02,\n",
              "        -8.53116065e-03, -2.45113112e-02, -3.53480726e-02,\n",
              "        -4.89058271e-02,  8.62861704e-03,  8.05527065e-03,\n",
              "         4.63813730e-02,  8.59877765e-02, -2.72127260e-02,\n",
              "         3.68804373e-02,  1.06229761e-03,  5.17300181e-02,\n",
              "        -8.93463790e-02, -4.63005491e-02, -4.75301147e-02,\n",
              "         5.64451050e-03,  2.72890478e-02,  9.54952985e-02,\n",
              "        -9.12479684e-03,  1.78966988e-02, -9.99521166e-02,\n",
              "         3.23243323e-03, -1.66043416e-02, -6.00485578e-02,\n",
              "         1.39679492e-03, -7.92335793e-02, -2.82151811e-02,\n",
              "         3.50872241e-02, -1.84498844e-03,  1.83904786e-02,\n",
              "        -1.82566810e-02, -4.62950766e-02,  8.13950449e-02,\n",
              "        -4.35471945e-02,  2.70891339e-02,  1.79039768e-03,\n",
              "        -3.96216623e-02, -3.05427108e-02,  2.45050117e-02,\n",
              "         7.62732103e-02, -3.19662243e-02,  2.27411743e-02,\n",
              "         4.65567969e-02,  6.22755475e-03,  8.17907527e-02,\n",
              "        -1.18379006e-02, -7.02130422e-02,  1.08135730e-01,\n",
              "         2.75182119e-03,  2.00146325e-02,  2.58387402e-02,\n",
              "        -6.31534588e-03,  3.87038253e-02, -1.51949441e-02,\n",
              "        -7.71712139e-02,  4.53008041e-02,  3.17688994e-02,\n",
              "         8.48571658e-02,  8.99777040e-02,  4.84025776e-02,\n",
              "         4.08219174e-02,  1.44683672e-02,  9.83763263e-02,\n",
              "        -2.26416886e-02,  1.53103145e-02,  1.59410723e-02,\n",
              "        -2.73116045e-02,  4.31778952e-02,  2.19633318e-02,\n",
              "         2.76295636e-02, -8.15752521e-02, -4.11325544e-02,\n",
              "         9.03710201e-02, -5.95750324e-02, -3.38921286e-02,\n",
              "         1.69224758e-02, -1.67308841e-02, -4.69493754e-02,\n",
              "        -3.45307812e-02, -5.67824114e-03,  1.36579317e-03,\n",
              "         1.87388547e-02, -3.12569514e-02, -7.44390413e-02,\n",
              "        -5.29349558e-02, -1.98343229e-02,  6.95182011e-02,\n",
              "        -7.73026347e-02, -5.91784154e-33, -1.91516094e-02,\n",
              "        -1.14892796e-03, -1.71364238e-03, -2.54107714e-02,\n",
              "         3.18404287e-02,  1.38495688e-03, -5.51028736e-02,\n",
              "        -3.14623676e-02, -2.16182377e-02,  1.80498641e-02,\n",
              "        -6.07174681e-03,  1.89722832e-02,  6.55480996e-02,\n",
              "        -4.92247157e-02,  4.59928252e-03,  3.20574865e-02,\n",
              "        -7.93782249e-03, -2.02887356e-02, -4.58977707e-02,\n",
              "         9.32075679e-02,  2.85912622e-02,  8.03152025e-02,\n",
              "        -6.01840653e-02, -2.10541859e-02, -4.30791117e-02,\n",
              "         7.41434097e-02,  3.04256510e-02,  3.71831320e-02,\n",
              "         9.38864332e-03,  7.24327341e-02,  1.45381289e-02,\n",
              "         1.28068300e-02, -6.41194358e-03,  5.12411185e-02,\n",
              "        -3.49609926e-02,  6.63405433e-02,  9.19383541e-02,\n",
              "        -3.95398885e-02,  6.69416180e-03,  4.28721271e-02,\n",
              "         8.97457600e-02,  6.45656809e-02, -4.81341407e-02,\n",
              "        -1.84024237e-02, -5.39698564e-02, -7.41950795e-02,\n",
              "        -1.68107692e-02,  1.67423740e-01, -5.07346578e-02,\n",
              "         4.40588668e-02,  1.05921015e-01, -1.78205390e-02,\n",
              "        -2.69777756e-02, -7.56713673e-02,  6.30174717e-03,\n",
              "         1.79612730e-02,  4.86615300e-03,  2.72780154e-02,\n",
              "        -6.00340031e-02,  3.71727198e-02,  1.85986813e-02,\n",
              "        -5.90747334e-02,  1.18196927e-01,  1.38246072e-02,\n",
              "        -3.21226045e-02, -5.04734926e-02,  8.28274861e-02,\n",
              "         1.13111265e-01, -1.00736894e-01, -3.50014889e-03,\n",
              "         3.68715897e-02, -1.27713215e-02, -4.62019444e-03,\n",
              "         2.63493638e-02,  8.87249224e-03,  2.62304191e-02,\n",
              "         4.32069898e-02,  1.47268111e-02,  3.15651577e-03,\n",
              "         7.23795667e-02,  5.65104261e-02,  2.15546414e-02,\n",
              "         5.31586073e-02,  2.22494844e-02,  5.45216091e-02,\n",
              "         5.91125824e-02, -3.36938687e-02, -5.46780601e-02,\n",
              "        -3.33383642e-02, -1.70914941e-02, -7.89387971e-02,\n",
              "        -4.71221358e-02, -2.78052036e-02,  1.35735512e-01,\n",
              "        -1.01782627e-01, -5.38141620e-08, -3.11904810e-02,\n",
              "        -7.79839903e-02,  6.27189428e-02, -3.69159095e-02,\n",
              "         2.28966046e-02,  5.00079319e-02, -8.18329770e-03,\n",
              "         7.04376549e-02, -2.34176107e-02, -8.32346827e-02,\n",
              "        -2.59181820e-02, -1.52884182e-02,  9.39122285e-04,\n",
              "         2.14287899e-02,  2.19108947e-02,  2.35201027e-02,\n",
              "         1.35524971e-02, -4.44486588e-02, -8.94218741e-04,\n",
              "         3.66901197e-02,  5.20846508e-02, -5.83764389e-02,\n",
              "        -6.74335659e-03, -9.25005414e-03,  6.70532659e-02,\n",
              "        -4.81420085e-02,  3.99505487e-03,  2.37455796e-02,\n",
              "         3.90871726e-02, -3.42185535e-02, -1.90373231e-02,\n",
              "        -5.76780923e-02,  5.07436953e-02,  6.65214136e-02,\n",
              "         2.75551882e-02, -9.83729400e-03,  1.39836809e-02,\n",
              "        -8.39822814e-02, -2.78397296e-02,  1.75849907e-02,\n",
              "         4.14680131e-03,  1.41642183e-01, -5.28332815e-02,\n",
              "         4.05270420e-03, -4.10874374e-02,  7.23527279e-03,\n",
              "        -2.75705308e-02, -8.08781236e-02, -5.72586991e-02,\n",
              "         7.08707981e-03, -4.01077345e-02, -1.12595493e-02,\n",
              "         1.41849807e-02,  3.81561765e-03,  2.17801388e-02,\n",
              "         8.63632858e-02, -5.03216162e-02,  3.10530737e-02,\n",
              "         4.58262600e-02,  4.13418822e-02,  3.69575843e-02,\n",
              "        -5.17953709e-02, -5.60443774e-02, -2.82270741e-02]], dtype=float32)"
            ]
          },
          "metadata": {},
          "execution_count": 7
        }
      ]
    },
    {
      "cell_type": "markdown",
      "source": [
        "## Step 4: Store Embeddings in a Vector Database\n",
        "Use FAISS for similarity search."
      ],
      "metadata": {
        "id": "VGK2Bx0Ak2Iz"
      }
    },
    {
      "cell_type": "code",
      "source": [
        "!pip install faiss-cpu\n"
      ],
      "metadata": {
        "colab": {
          "base_uri": "https://localhost:8080/"
        },
        "id": "3b6PLwPek_3E",
        "outputId": "867d5fbb-a78d-40e0-a2fb-e522f249fe65"
      },
      "execution_count": 78,
      "outputs": [
        {
          "output_type": "stream",
          "name": "stdout",
          "text": [
            "Requirement already satisfied: faiss-cpu in /usr/local/lib/python3.10/dist-packages (1.9.0.post1)\n",
            "Requirement already satisfied: numpy<3.0,>=1.25.0 in /usr/local/lib/python3.10/dist-packages (from faiss-cpu) (1.26.4)\n",
            "Requirement already satisfied: packaging in /usr/local/lib/python3.10/dist-packages (from faiss-cpu) (24.2)\n"
          ]
        }
      ]
    },
    {
      "cell_type": "code",
      "source": [
        "import faiss\n",
        "import numpy as np\n",
        "\n",
        "dimension = embeddings.shape[1]\n",
        "index = faiss.IndexFlatL2(dimension)\n",
        "index.add(embeddings)\n"
      ],
      "metadata": {
        "id": "6nsfm6HWky19"
      },
      "execution_count": 84,
      "outputs": []
    },
    {
      "cell_type": "markdown",
      "source": [
        "## Step 5: Handle Queries\n",
        "Search for the most relevant chunks."
      ],
      "metadata": {
        "id": "R6uuf5Bzlq04"
      }
    },
    {
      "cell_type": "code",
      "source": [
        "\n",
        "\n",
        "# Step 4: Search for relevant chunks based on a query\n",
        "def search_query(query, index, chunks):\n",
        "    # Generate the embedding for the query\n",
        "    query_embedding = np.array(model.encode([query]))  # Generate query embedding\n",
        "    distances, indices = index.search(query_embedding, k=3)  # Retrieve top 3 relevant chunks\n",
        "    relevant_chunks = [chunks[i] for i in indices[0]]  # Extract the relevant chunks\n",
        "    return relevant_chunks\n",
        "\n",
        "# Test the search functionality\n",
        "query = \"what is biotechnology?\"\n",
        "results = search_query(query, index, chunks)\n",
        "\n",
        "# # Step 5: Print the retrieved chunks\n",
        "# print(\"\\nTop relevant chunks for the query:\")\n",
        "# for result in results:\n",
        "#     print(f\"Relevant Chunk: {result[:]}...\")  # Preview first 200 characters of each result\n"
      ],
      "metadata": {
        "id": "F9MbqbN5rWHl"
      },
      "execution_count": 88,
      "outputs": []
    },
    {
      "cell_type": "code",
      "source": [
        "prompt = f\"Based on the following information, answer the query: {' '.join(relevant_chunks)}\\n\\nQuery: {query}\"\n",
        "# prompt"
      ],
      "metadata": {
        "id": "KisyxpkK_ame"
      },
      "execution_count": 89,
      "outputs": []
    },
    {
      "cell_type": "markdown",
      "source": [
        "## Step 6: Generate Responses with LLM\n",
        "Use OpenAI GPT to generate responses."
      ],
      "metadata": {
        "id": "2_uuRlYFl0Bg"
      }
    },
    {
      "cell_type": "code",
      "source": [
        "from transformers import AutoTokenizer, AutoModelForSeq2SeqLM\n",
        "\n",
        "# Switch to a more capable model\n",
        "tokenizer = AutoTokenizer.from_pretrained(\"google/flan-t5-large\")\n",
        "model = AutoModelForSeq2SeqLM.from_pretrained(\"google/flan-t5-large\")\n",
        "\n",
        "def generate_response(query, retrieved_chunks):\n",
        "    if not retrieved_chunks:\n",
        "        return \"No relevant information found in the provided context.\"\n",
        "    context = \" \".join(retrieved_chunks)\n",
        "    prompt = (\n",
        "        f\"Based on the following information, answer the query:\"\n",
        "        f\"Question: {query}\\n\\n\"\n",
        "        f\"Answer:\"\n",
        "    )\n",
        "    inputs = tokenizer(prompt, return_tensors=\"pt\", max_length=512, truncation=True)\n",
        "    outputs = model.generate(**inputs, max_length=512)\n",
        "    return tokenizer.decode(outputs[0], skip_special_tokens=True)\n",
        "\n",
        "response = generate_response(query, relevant_chunks)\n",
        "print(\"Response:\", response)\n"
      ],
      "metadata": {
        "colab": {
          "base_uri": "https://localhost:8080/"
        },
        "id": "zXjZ27DD-UkA",
        "outputId": "b641cb32-17d4-44ce-8cf5-c92942d09f90"
      },
      "execution_count": 82,
      "outputs": [
        {
          "output_type": "stream",
          "name": "stdout",
          "text": [
            "Response: Biotechnology is the science and technology of modifying living organisms to increase their biochemical properties and to increase their biophysical properties.\n"
          ]
        }
      ]
    },
    {
      "cell_type": "markdown",
      "source": [
        "## comparing responses"
      ],
      "metadata": {
        "id": "EPiNHxCGza-U"
      }
    },
    {
      "cell_type": "code",
      "source": [
        "\n",
        "\n",
        "# Step 4: Search for relevant chunks based on a query\n",
        "def search_query(query, index, chunks):\n",
        "    # Generate the embedding for the query\n",
        "    query_embedding = np.array(model.encode([query]))  # Generate query embedding\n",
        "    distances, indices = index.search(query_embedding, k=3)  # Retrieve top 3 relevant chunks\n",
        "    relevant_chunks = [chunks[i] for i in indices[0]]  # Extract the relevant chunks\n",
        "    return relevant_chunks\n",
        "\n",
        "# Test the search functionality\n",
        "query = \"what are Renewable Energy Technologies?\"\n",
        "results = search_query(query, index, chunks)\n",
        "\n",
        "# # Step 5: Print the retrieved chunks\n",
        "# print(\"\\nTop relevant chunks for the query:\")\n",
        "# for result in results:\n",
        "#     print(f\"Relevant Chunk: {result[:]}...\")  # Preview first 200 characters of each result\n"
      ],
      "metadata": {
        "id": "9aWA7ih_-diy"
      },
      "execution_count": 90,
      "outputs": []
    },
    {
      "cell_type": "code",
      "source": [
        "\n",
        "\n",
        "response = generate_response(query, relevant_chunks)\n",
        "print(\"Response:\", response)\n"
      ],
      "metadata": {
        "colab": {
          "base_uri": "https://localhost:8080/"
        },
        "id": "Zfag1ByvyVwv",
        "outputId": "ae8535c9-a063-4f49-a31d-b5f25e63d4e0"
      },
      "execution_count": 91,
      "outputs": [
        {
          "output_type": "stream",
          "name": "stdout",
          "text": [
            "Response: Renewable energy technologies (RETs) are technologies that use renewable energy sources (renewable energy sources) to generate electricity or heat.\n"
          ]
        }
      ]
    },
    {
      "cell_type": "code",
      "source": [
        "\n",
        "\n",
        "# Step 4: Search for relevant chunks based on a query\n",
        "def search_query(query, index, chunks):\n",
        "    # Generate the embedding for the query\n",
        "    query_embedding = np.array(model.encode([query]))  # Generate query embedding\n",
        "    distances, indices = index.search(query_embedding, k=3)  # Retrieve top 3 relevant chunks\n",
        "    relevant_chunks = [chunks[i] for i in indices[0]]  # Extract the relevant chunks\n",
        "    return relevant_chunks\n",
        "\n",
        "# Test the search functionality\n",
        "query = \"what are the key breakthroughs?\"\n",
        "results = search_query(query, index, chunks)\n",
        "\n",
        "# # Step 5: Print the retrieved chunks\n",
        "# print(\"\\nTop relevant chunks for the query:\")\n",
        "# for result in results:\n",
        "#     print(f\"Relevant Chunk: {result[:]}...\")  # Preview first 200 characters of each result\n"
      ],
      "metadata": {
        "id": "SwERVfeGyXUk"
      },
      "execution_count": 95,
      "outputs": []
    },
    {
      "cell_type": "code",
      "source": [
        "from transformers import AutoTokenizer, AutoModelForSeq2SeqLM\n",
        "\n",
        "# Switch to a more capable model\n",
        "tokenizer = AutoTokenizer.from_pretrained(\"google/flan-t5-large\")\n",
        "model = AutoModelForSeq2SeqLM.from_pretrained(\"google/flan-t5-large\")\n",
        "\n",
        "def generate_response(query, retrieved_chunks):\n",
        "    if not retrieved_chunks:\n",
        "        return \"No relevant information found in the provided context.\"\n",
        "    context = \" \".join(retrieved_chunks)\n",
        "    prompt = (\n",
        "        f\"Based on the following information, answer the query:\"\n",
        "        f\"Question: {query}\\n\\n\"\n",
        "        f\"Answer:\"\n",
        "    )\n",
        "    inputs = tokenizer(prompt, return_tensors=\"pt\", max_length=512, truncation=True)\n",
        "    outputs = model.generate(**inputs, max_length=512)\n",
        "    return tokenizer.decode(outputs[0], skip_special_tokens=True)\n",
        "\n",
        "response = generate_response(query, relevant_chunks)\n",
        "print(\"Response:\", response)\n"
      ],
      "metadata": {
        "colab": {
          "base_uri": "https://localhost:8080/"
        },
        "id": "RS0fGchAypJv",
        "outputId": "724402ef-2b57-43c4-c6f5-2122843b80d3"
      },
      "execution_count": 97,
      "outputs": [
        {
          "output_type": "stream",
          "name": "stdout",
          "text": [
            "Response: The first major breakthrough in the development of the atomic bomb was the development of the atomic bomb , which was a device that could be used to destroy a nuclear weapon .\n"
          ]
        }
      ]
    },
    {
      "cell_type": "code",
      "source": [],
      "metadata": {
        "id": "JfPUSgNczKZ9"
      },
      "execution_count": null,
      "outputs": []
    }
  ]
}